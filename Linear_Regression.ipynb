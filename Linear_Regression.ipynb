{
  "nbformat": 4,
  "nbformat_minor": 0,
  "metadata": {
    "colab": {
      "provenance": [],
      "authorship_tag": "ABX9TyMoCjHdimt2FLIekMQF50IU"
    },
    "kernelspec": {
      "name": "python3",
      "display_name": "Python 3"
    },
    "language_info": {
      "name": "python"
    }
  },
  "cells": [
    {
      "cell_type": "markdown",
      "source": [
        "The model can be written as\n",
        "\n",
        "Salary = β0 + β1X1 + β2X2 + β3X3 + β4(X1.X2) + β5(X1.X3)\n",
        "\n",
        "Where:-\n",
        "\n",
        "*   X1 = GPA\n",
        "*   X2 = IQ\n",
        "\n",
        "*   X3 = Level (College=1,High school=0)\n",
        "*   X4 = X1.X2\n",
        "\n",
        "*   X5 = X1.X3\n",
        "*   β0 = 50\n",
        "\n",
        "*   β1 = 20\n",
        "*   β2 = 0.07\n",
        "\n",
        "*   β3 = 35\n",
        "*   β4 = 0.01\n",
        "\n",
        "*   β5 = -10\n",
        "\n",
        "The impact of being a college graduate and a high school graduate can be analyzed by comparing the effect of X3 and it's relation with the GPA.\n",
        "\n",
        "For high school graduates(X3=0):\n",
        "\n",
        "Salary = 50 +20X1 + 0.07X2 + 0.01(X1.X2)\n",
        "\n",
        "For college graduates(X3=1):\n",
        "\n",
        "Salary = 50 + 20X1 + 0.07X2 + 35 + 0.01(X1.X2) - 10X1\n",
        "\n",
        "By solving we will get:-\n",
        "\n",
        "Salary = 85 + 10X1 + 0.07X2 + 0.01(X1.X2)\n",
        "\n",
        "Thus for high school graduates, salary depends more on GPA with coefficient 20 and for college graduates the GPA coefficient is 10 and an additional fixed boost of 35.\n",
        "\n",
        "Thus, for low GPAs, college graduates will tend to earn more due to the fixed boost of 35 in their salary.\n",
        "\n",
        "**So, the correct answer is option (iii)**\n",
        "\n",
        "\n",
        "\n",
        "\n",
        "\n",
        "\n",
        "\n",
        "\n",
        "\n",
        "\n",
        "\n"
      ],
      "metadata": {
        "id": "u7Mrb7RIKoSW"
      }
    },
    {
      "cell_type": "markdown",
      "source": [
        "Here we are required to predict the salary of a college graduate with IQ of 110 and a GPA of 4.0.\n",
        "\n",
        "So, for a college graduate, X3=1, X1=4.0 and X2=110\n",
        "\n",
        "Now,\n",
        "\n",
        "Salary = 85 + 10(4.0) + 0.07(110) + 0.01(4.0 * 110)\n",
        "\n",
        "Salary = 85 + 40 + 7.7 + 4.4 = 137.1\n",
        "\n",
        "**Thus, the predicted salary is $137.1K**"
      ],
      "metadata": {
        "id": "RP0WJiqEPdan"
      }
    },
    {
      "cell_type": "markdown",
      "source": [
        "The coefficient for the interaction term between GPA and IQ (i.e β4 = 0.01) is very small, indicating that the interaction between GPA and IQ has a very low impact on the salary. But, the size of the coefficient alone cannot determine the evidence of an interaction effect.\n",
        "\n",
        "**Thus, this statement is TRUE**"
      ],
      "metadata": {
        "id": "D-vVsy3fQg62"
      }
    },
    {
      "cell_type": "code",
      "source": [
        "import pandas as pd\n",
        "import statsmodels.api as sm\n",
        "from statsmodels.tools.eval_measures import mse\n",
        "import numpy as np\n",
        "\n",
        "\n",
        "auto_data = pd.read_csv('Auto.csv')\n",
        "\n",
        "auto_data = auto_data.dropna()\n",
        "\n",
        "X = auto_data['horsepower']\n",
        "y = auto_data['mpg']\n",
        "\n",
        "# Check for infinite values in X and replace them with NaN\n",
        "X = pd.to_numeric(X, errors='coerce')\n",
        "X.replace([np.inf, -np.inf], np.nan, inplace=True)\n",
        "\n",
        "y = pd.to_numeric(y, errors='coerce')\n",
        "\n",
        "\n",
        "if len(X) != len(y):\n",
        "  raise ValueError(\"X and y have different lengths after dropping NANs\")\n",
        "\n",
        "# Drop rows with NaN values in X or y\n",
        "X = X.dropna()\n",
        "y = y[X.index]\n",
        "\n",
        "X = sm.add_constant(X)\n",
        "\n",
        "model = sm.OLS(y, X).fit()\n",
        "\n",
        "print(model.summary())\n",
        "\n",
        "predicted_mpg = model.get_prediction([1, 98])\n",
        "\n",
        "prediction_summary = predicted_mpg.summary_frame(alpha=0.05)\n",
        "\n",
        "print(prediction_summary[['mean', 'mean_ci_lower', 'mean_ci_upper', 'obs_ci_lower', 'obs_ci_upper']])"
      ],
      "metadata": {
        "colab": {
          "base_uri": "https://localhost:8080/"
        },
        "id": "uoA2IsRpR2fc",
        "outputId": "11badb94-8f83-4fb7-aba5-1254029437b1"
      },
      "execution_count": null,
      "outputs": [
        {
          "output_type": "stream",
          "name": "stdout",
          "text": [
            "                            OLS Regression Results                            \n",
            "==============================================================================\n",
            "Dep. Variable:                    mpg   R-squared:                       0.606\n",
            "Model:                            OLS   Adj. R-squared:                  0.605\n",
            "Method:                 Least Squares   F-statistic:                     599.7\n",
            "Date:                Sun, 22 Sep 2024   Prob (F-statistic):           7.03e-81\n",
            "Time:                        15:32:33   Log-Likelihood:                -1178.7\n",
            "No. Observations:                 392   AIC:                             2361.\n",
            "Df Residuals:                     390   BIC:                             2369.\n",
            "Df Model:                           1                                         \n",
            "Covariance Type:            nonrobust                                         \n",
            "==============================================================================\n",
            "                 coef    std err          t      P>|t|      [0.025      0.975]\n",
            "------------------------------------------------------------------------------\n",
            "const         39.9359      0.717     55.660      0.000      38.525      41.347\n",
            "horsepower    -0.1578      0.006    -24.489      0.000      -0.171      -0.145\n",
            "==============================================================================\n",
            "Omnibus:                       16.432   Durbin-Watson:                   0.920\n",
            "Prob(Omnibus):                  0.000   Jarque-Bera (JB):               17.305\n",
            "Skew:                           0.492   Prob(JB):                     0.000175\n",
            "Kurtosis:                       3.299   Cond. No.                         322.\n",
            "==============================================================================\n",
            "\n",
            "Notes:\n",
            "[1] Standard Errors assume that the covariance matrix of the errors is correctly specified.\n",
            "        mean  mean_ci_lower  mean_ci_upper  obs_ci_lower  obs_ci_upper\n",
            "0  24.467077      23.973079      24.961075     14.809396     34.124758\n"
          ]
        }
      ]
    },
    {
      "cell_type": "markdown",
      "source": [
        "(i) There is a strong relationship between the predictor and the response as the \"p-value\" is less than 0.05\n",
        "\n",
        "(ii) The strength of the relationship between the predictor and the response is determined by the value of \"R-squared\". The closer the value is to 1, the stronger the relationship. As the value of \"R-squared\" is 0.606, we can conclude that the relationship is very strong\n",
        "\n",
        "(iii) The sign of the coefficient will determine whether the relationship between the predictor and response is negative or positive. So, as in the output the sign of coefficient of horsepower is negative, the relationship between \"horsepower\" and \"mpg\" is negative.\n",
        "\n",
        "(iv) To calculate mpg for a specific horsepower we can use the regression equation which is:-\n",
        "\n",
        "                  mpg = β0 + β1*horsepower\n",
        "Here,\n",
        "                  \n",
        "                  β0 = intercept\n",
        "                  β1 = coefficient of horsepower"
      ],
      "metadata": {
        "id": "14WS-7QuX-5v"
      }
    },
    {
      "cell_type": "code",
      "source": [
        "# Predicted mpg for horsepower = 98\n",
        "horsepower_value = 98\n",
        "predicted_mpg = model.predict([1, horsepower_value])\n",
        "print(f\"Predicted mpg for horsepower 98: {predicted_mpg[0]}\")\n"
      ],
      "metadata": {
        "colab": {
          "base_uri": "https://localhost:8080/"
        },
        "id": "smK5IT_BbGMa",
        "outputId": "0191f30a-b228-4ca1-d22d-a578caa01c72"
      },
      "execution_count": null,
      "outputs": [
        {
          "output_type": "stream",
          "name": "stdout",
          "text": [
            "Predicted mpg for horsepower 98: 24.46707715251243\n"
          ]
        }
      ]
    },
    {
      "cell_type": "code",
      "source": [
        "# Get confidence and prediction intervals\n",
        "predictions = model.get_prediction([1, horsepower_value])\n",
        "\n",
        "summary_frame = predictions.summary_frame(alpha=0.05)\n",
        "print(summary_frame)\n"
      ],
      "metadata": {
        "colab": {
          "base_uri": "https://localhost:8080/"
        },
        "id": "JlzntfZ7bMdg",
        "outputId": "841f5f8c-be12-4119-e3ec-cb318d4833b7"
      },
      "execution_count": null,
      "outputs": [
        {
          "output_type": "stream",
          "name": "stdout",
          "text": [
            "        mean   mean_se  mean_ci_lower  mean_ci_upper  obs_ci_lower  \\\n",
            "0  24.467077  0.251262      23.973079      24.961075     14.809396   \n",
            "\n",
            "   obs_ci_upper  \n",
            "0     34.124758  \n"
          ]
        }
      ]
    },
    {
      "cell_type": "code",
      "source": [
        "import pandas as pd\n",
        "import statsmodels.api as sm\n",
        "\n",
        "carseats_data = pd.read_csv('Carseats.csv')\n",
        "\n",
        "carseats_data = pd.get_dummies(carseats_data, drop_first=True)\n",
        "\n",
        "X = carseats_data[['Price', 'Urban_Yes', 'US_Yes']]  # 'Urban_Yes' and 'US_Yes' are dummy variables\n",
        "y = carseats_data['Sales']\n",
        "\n",
        "X = sm.add_constant(X)\n",
        "\n",
        "X = X.apply(pd.to_numeric, errors='coerce')\n",
        "y = pd.to_numeric(y, errors='coerce')\n",
        "\n",
        "# Remove rows with NaN values\n",
        "X = X.dropna()\n",
        "y = y[X.index]\n",
        "\n",
        "X = X.astype('float64')\n",
        "y = y.astype('float64')\n",
        "\n",
        "model = sm.OLS(y, X).fit()\n",
        "\n",
        "print(model.summary())"
      ],
      "metadata": {
        "colab": {
          "base_uri": "https://localhost:8080/"
        },
        "id": "wiQhH668cqzL",
        "outputId": "6225ad93-bf8f-47d5-c22a-2aa57c679745"
      },
      "execution_count": null,
      "outputs": [
        {
          "output_type": "stream",
          "name": "stdout",
          "text": [
            "                            OLS Regression Results                            \n",
            "==============================================================================\n",
            "Dep. Variable:                  Sales   R-squared:                       0.239\n",
            "Model:                            OLS   Adj. R-squared:                  0.234\n",
            "Method:                 Least Squares   F-statistic:                     41.52\n",
            "Date:                Sun, 22 Sep 2024   Prob (F-statistic):           2.39e-23\n",
            "Time:                        16:03:59   Log-Likelihood:                -927.66\n",
            "No. Observations:                 400   AIC:                             1863.\n",
            "Df Residuals:                     396   BIC:                             1879.\n",
            "Df Model:                           3                                         \n",
            "Covariance Type:            nonrobust                                         \n",
            "==============================================================================\n",
            "                 coef    std err          t      P>|t|      [0.025      0.975]\n",
            "------------------------------------------------------------------------------\n",
            "const         13.0435      0.651     20.036      0.000      11.764      14.323\n",
            "Price         -0.0545      0.005    -10.389      0.000      -0.065      -0.044\n",
            "Urban_Yes     -0.0219      0.272     -0.081      0.936      -0.556       0.512\n",
            "US_Yes         1.2006      0.259      4.635      0.000       0.691       1.710\n",
            "==============================================================================\n",
            "Omnibus:                        0.676   Durbin-Watson:                   1.912\n",
            "Prob(Omnibus):                  0.713   Jarque-Bera (JB):                0.758\n",
            "Skew:                           0.093   Prob(JB):                        0.684\n",
            "Kurtosis:                       2.897   Cond. No.                         628.\n",
            "==============================================================================\n",
            "\n",
            "Notes:\n",
            "[1] Standard Errors assume that the covariance matrix of the errors is correctly specified.\n"
          ]
        }
      ]
    },
    {
      "cell_type": "markdown",
      "source": [
        "(a)\n",
        "*   Urban_Yes is a dummy variable for the Urban variable, where 1 indicates an urban location and 0 indicates a non-urban location.\n",
        "*    US_Yes is a dummy variable for the US variable, where 1 indicates the car seat was sold in the US, and 0 indicates it was sold elsewhere.\n",
        "\n",
        "\n",
        "\n"
      ],
      "metadata": {
        "id": "miAtmuC_nKPP"
      }
    },
    {
      "cell_type": "markdown",
      "source": [
        "(b) Interpretation of every coefficient in the model is as follows:-\n",
        "\n",
        "      Here we have the estimated coefficients for **Price**, **Urban_Yes**, and **US_Yes**. Here is the interpretation of each of them:-\n",
        "\n",
        "      (i) Intercept: This represents the predicted sales when Price, Urban, and US are at their reference levels (when Price = 0, Urban = No, and US = No).\n",
        "\n",
        "      (ii) Price: This coefficient tells you the change in predicted sales for a one-unit increase in price, holding other variables constant. If the coefficient is negative, it indicates that higher prices lead to lower sales.\n",
        "\n",
        "      (iii) Urban_Yes: This coefficient compares the sales in urban areas to non-urban areas. If positive, it indicates that sales are higher in urban areas; if negative, sales are lower in urban areas.\n",
        "\n",
        "      (iv) US_Yes: This coefficient compares the sales in the US to sales outside the US. A positive coefficient indicates higher sales in the US compared to other countries, and a negative coefficient suggests the opposite.\n",
        "\n",
        "(c) Model in Equation Form:-\n",
        "      \n",
        "      On the basis of the fitted coefficients, the model equation can be written as:-\n",
        "              Sales = β0 + β1*Price + β2*Urban_Yes + β3*US_Yes\n",
        "              Where,\n",
        "                      Urban_Yes = 1 if the location is urban, and 0 otherwise.\n",
        "                      US_Yes = 1 if the product is sold in the US, and 0 otherwise.\n",
        "\n",
        "(d) In order to reject the null hypothesis H0 : βj = 0, we need to take a look at the p-values of the predictor. If the p-value of a predictor is less than 0.05, the we can reject the null hypothesis.\n",
        "\n",
        "So, here the p-value of 'US_Yes' and 'Price' are lower than 0.05, so, we can reject their null hypothesis.\n",
        "\n",
        "(e) Now as the 'Urban_Yes' is statistically not significant as it's p-value is higher than 0.05, so we can exclude it and fit a smaller model with just 'US_Yes' and 'Price' as predictors.\n",
        "\n",
        "The code for the following is as below:-"
      ],
      "metadata": {
        "id": "3aQLOmiYnSgG"
      }
    },
    {
      "cell_type": "code",
      "source": [
        "# Smaller model with only Price and US_Yes\n",
        "X_small = carseats_data[['Price', 'US_Yes']]\n",
        "X_small = sm.add_constant(X_small)\n",
        "\n",
        "# Check for non-numeric values in X_small and convert them to numeric\n",
        "X_small = X_small.apply(pd.to_numeric, errors='coerce')\n",
        "\n",
        "# Remove rows with NaN values from X_small\n",
        "X_small = X_small.dropna()\n",
        "\n",
        "# Ensure y has the same indices as X_small after dropping rows (if any)\n",
        "y_small = y[X_small.index]\n",
        "\n",
        "X_small = X_small.astype('float64')\n",
        "y_small = y_small.astype('float64')\n",
        "\n",
        "model_small = sm.OLS(y_small, X_small).fit()\n",
        "\n",
        "print(model_small.summary())"
      ],
      "metadata": {
        "colab": {
          "base_uri": "https://localhost:8080/"
        },
        "id": "yvyUJCNacq1r",
        "outputId": "a3ecb9be-785d-4ba0-8712-e18cfd43567f"
      },
      "execution_count": null,
      "outputs": [
        {
          "output_type": "stream",
          "name": "stdout",
          "text": [
            "                            OLS Regression Results                            \n",
            "==============================================================================\n",
            "Dep. Variable:                  Sales   R-squared:                       0.239\n",
            "Model:                            OLS   Adj. R-squared:                  0.235\n",
            "Method:                 Least Squares   F-statistic:                     62.43\n",
            "Date:                Sun, 22 Sep 2024   Prob (F-statistic):           2.66e-24\n",
            "Time:                        17:08:07   Log-Likelihood:                -927.66\n",
            "No. Observations:                 400   AIC:                             1861.\n",
            "Df Residuals:                     397   BIC:                             1873.\n",
            "Df Model:                           2                                         \n",
            "Covariance Type:            nonrobust                                         \n",
            "==============================================================================\n",
            "                 coef    std err          t      P>|t|      [0.025      0.975]\n",
            "------------------------------------------------------------------------------\n",
            "const         13.0308      0.631     20.652      0.000      11.790      14.271\n",
            "Price         -0.0545      0.005    -10.416      0.000      -0.065      -0.044\n",
            "US_Yes         1.1996      0.258      4.641      0.000       0.692       1.708\n",
            "==============================================================================\n",
            "Omnibus:                        0.666   Durbin-Watson:                   1.912\n",
            "Prob(Omnibus):                  0.717   Jarque-Bera (JB):                0.749\n",
            "Skew:                           0.092   Prob(JB):                        0.688\n",
            "Kurtosis:                       2.895   Cond. No.                         607.\n",
            "==============================================================================\n",
            "\n",
            "Notes:\n",
            "[1] Standard Errors assume that the covariance matrix of the errors is correctly specified.\n"
          ]
        }
      ]
    },
    {
      "cell_type": "markdown",
      "source": [
        "(f) Since the values of both \"R-squared\" and \"Adjusted R-squared\" are similar in models (a) and (e), so, the smaller model would be preferable as it simplifies the model."
      ],
      "metadata": {
        "id": "A5jiSQyqtado"
      }
    },
    {
      "cell_type": "code",
      "source": [
        "import numpy as np\n",
        "\n",
        "rng = np.random.default_rng(10)\n",
        "x1 = rng.uniform(0, 1, size=100)\n",
        "x2 = 0.5 * x1 + rng.normal(size=100) / 10\n",
        "y = 2 + 2 * x1 + 0.3 * x2 + rng.normal(size=100)"
      ],
      "metadata": {
        "id": "ZKh_hOSdcrF7"
      },
      "execution_count": null,
      "outputs": []
    },
    {
      "cell_type": "markdown",
      "source": [
        "(a) The last line of the code here generates the equation of the form:-\n",
        "\n",
        "        y = β0 + β1*x1 + β2*x2 + ϵ\n",
        "        where,\n",
        "               β0 = 2 (intercept)\n",
        "               β1 = 2 (coefficient of x1)\n",
        "               β2 = 0.3 (coefficient of x2)\n",
        "               ϵ is the normally distributed random error term\n",
        "So the equation becomes:-\n",
        "\n",
        "        y = 2 + 2*x1 + 0.3*x2 + ϵ\n",
        "Regression Coefficients are:-\n",
        "\n",
        "        Intercept = β0 = 2\n",
        "        coefficient of x1 = β1 = 2\n",
        "        coefficient of x2 = β2 = 0.3"
      ],
      "metadata": {
        "id": "hgcu8CBzpUWP"
      }
    },
    {
      "cell_type": "code",
      "source": [
        "import matplotlib.pyplot as plt\n",
        "import numpy as np\n",
        "\n",
        "rng = np.random.default_rng(10)\n",
        "x1 = rng.uniform(0, 1, size=100)\n",
        "x2 = 0.5 * x1 + rng.normal(size=100) / 10\n",
        "\n",
        "correlation = np.corrcoef(x1, x2)[0, 1]\n",
        "\n",
        "plt.figure(figsize=(8, 6))\n",
        "plt.scatter(x1, x2, color='blue')\n",
        "plt.title(f'Scatterplot of x1 vs x2 (Correlation = {correlation:.2f})')\n",
        "plt.xlabel('x1')\n",
        "plt.ylabel('x2')\n",
        "plt.grid(True)\n",
        "plt.show()\n",
        "\n",
        "correlation\n"
      ],
      "metadata": {
        "colab": {
          "base_uri": "https://localhost:8080/",
          "height": 581
        },
        "id": "7sJYn24-rB62",
        "outputId": "d600b1d6-6a7b-4b7b-b8ec-c025811695b9"
      },
      "execution_count": null,
      "outputs": [
        {
          "output_type": "display_data",
          "data": {
            "text/plain": [
              "<Figure size 800x600 with 1 Axes>"
            ],
            "image/png": "[encoded data removed]"
          },
          "metadata": {}
        },
        {
          "output_type": "execute_result",
          "data": {
            "text/plain": [
              "0.772324497691354"
            ]
          },
          "metadata": {},
          "execution_count": 4
        }
      ]
    },
    {
      "cell_type": "markdown",
      "source": [
        "(b) The correlation between x1 and x2 is 0.77."
      ],
      "metadata": {
        "id": "B9IlD9mdrf9B"
      }
    },
    {
      "cell_type": "code",
      "source": [
        "import statsmodels.api as sm\n",
        "import numpy as np\n",
        "\n",
        "rng = np.random.default_rng(10)\n",
        "x1 = rng.uniform(0, 1, size=100)\n",
        "x2 = 0.5 * x1 + rng.normal(size=100) / 10\n",
        "y = 2 + 2 * x1 + 0.3 * x2 + rng.normal(size=100)\n",
        "\n",
        "X = np.column_stack((x1, x2))\n",
        "X = sm.add_constant(X)\n",
        "\n",
        "model = sm.OLS(y, X).fit()\n",
        "\n",
        "print(model.summary())\n"
      ],
      "metadata": {
        "colab": {
          "base_uri": "https://localhost:8080/"
        },
        "id": "OhN2xEoLrtPo",
        "outputId": "670a3fb9-b2e7-4d43-c96e-0cfb69f81de5"
      },
      "execution_count": null,
      "outputs": [
        {
          "output_type": "stream",
          "name": "stdout",
          "text": [
            "                            OLS Regression Results                            \n",
            "==============================================================================\n",
            "Dep. Variable:                      y   R-squared:                       0.291\n",
            "Model:                            OLS   Adj. R-squared:                  0.276\n",
            "Method:                 Least Squares   F-statistic:                     19.89\n",
            "Date:                Sun, 22 Sep 2024   Prob (F-statistic):           5.76e-08\n",
            "Time:                        21:45:07   Log-Likelihood:                -130.62\n",
            "No. Observations:                 100   AIC:                             267.2\n",
            "Df Residuals:                      97   BIC:                             275.1\n",
            "Df Model:                           2                                         \n",
            "Covariance Type:            nonrobust                                         \n",
            "==============================================================================\n",
            "                 coef    std err          t      P>|t|      [0.025      0.975]\n",
            "------------------------------------------------------------------------------\n",
            "const          1.9579      0.190     10.319      0.000       1.581       2.334\n",
            "x1             1.6154      0.527      3.065      0.003       0.569       2.661\n",
            "x2             0.9428      0.831      1.134      0.259      -0.707       2.592\n",
            "==============================================================================\n",
            "Omnibus:                        0.051   Durbin-Watson:                   1.964\n",
            "Prob(Omnibus):                  0.975   Jarque-Bera (JB):                0.041\n",
            "Skew:                          -0.036   Prob(JB):                        0.979\n",
            "Kurtosis:                       2.931   Cond. No.                         11.9\n",
            "==============================================================================\n",
            "\n",
            "Notes:\n",
            "[1] Standard Errors assume that the covariance matrix of the errors is correctly specified.\n"
          ]
        }
      ]
    },
    {
      "cell_type": "markdown",
      "source": [
        "(c) Here as we can see from the output that the p-values of both \"x1\" and \"x2\" are lower than 0.05 thus, we can reject both null hypothesis that are:- H0: β1 = 0 and H0: β2 = 0.\n",
        "\n",
        "Also, the estimated coefficients are close to similar to the true coefficients."
      ],
      "metadata": {
        "id": "fBn-rhKos-w0"
      }
    },
    {
      "cell_type": "code",
      "source": [
        "import statsmodels.api as sm\n",
        "import numpy as np\n",
        "\n",
        "rng = np.random.default_rng(10)\n",
        "x1 = rng.uniform(0, 1, size=100)\n",
        "y = 2 + 2 * x1 + np.random.normal(size=100)\n",
        "\n",
        "X = sm.add_constant(x1)\n",
        "\n",
        "model = sm.OLS(y, X).fit()\n",
        "\n",
        "print(model.summary())\n"
      ],
      "metadata": {
        "colab": {
          "base_uri": "https://localhost:8080/"
        },
        "id": "-ioKYT32rvW8",
        "outputId": "f1adee6a-dd2a-4bae-f8c7-e349c76e323d"
      },
      "execution_count": null,
      "outputs": [
        {
          "output_type": "stream",
          "name": "stdout",
          "text": [
            "                            OLS Regression Results                            \n",
            "==============================================================================\n",
            "Dep. Variable:                      y   R-squared:                       0.216\n",
            "Model:                            OLS   Adj. R-squared:                  0.208\n",
            "Method:                 Least Squares   F-statistic:                     27.00\n",
            "Date:                Sun, 22 Sep 2024   Prob (F-statistic):           1.11e-06\n",
            "Time:                        21:58:21   Log-Likelihood:                -137.67\n",
            "No. Observations:                 100   AIC:                             279.3\n",
            "Df Residuals:                      98   BIC:                             284.6\n",
            "Df Model:                           1                                         \n",
            "Covariance Type:            nonrobust                                         \n",
            "==============================================================================\n",
            "                 coef    std err          t      P>|t|      [0.025      0.975]\n",
            "------------------------------------------------------------------------------\n",
            "const          1.9910      0.202      9.875      0.000       1.591       2.391\n",
            "x1             1.8571      0.357      5.196      0.000       1.148       2.566\n",
            "==============================================================================\n",
            "Omnibus:                        5.720   Durbin-Watson:                   1.979\n",
            "Prob(Omnibus):                  0.057   Jarque-Bera (JB):                5.863\n",
            "Skew:                          -0.580   Prob(JB):                       0.0533\n",
            "Kurtosis:                       2.750   Cond. No.                         4.65\n",
            "==============================================================================\n",
            "\n",
            "Notes:\n",
            "[1] Standard Errors assume that the covariance matrix of the errors is correctly specified.\n"
          ]
        }
      ]
    },
    {
      "cell_type": "markdown",
      "source": [
        "(d) From the output obtained we can infer that the estimated coefficient of x1 is very close to it's true value (β1=2). Also, the p-value of x1 is very small and thus we can rejct the null hypothesis H0: β1=0."
      ],
      "metadata": {
        "id": "5EZAMeqtvsEX"
      }
    },
    {
      "cell_type": "code",
      "source": [
        "import statsmodels.api as sm\n",
        "import numpy as np\n",
        "\n",
        "rng = np.random.default_rng(10)\n",
        "x1 = rng.uniform(0, 1, size=100)\n",
        "x2 = 0.5 * x1 + rng.normal(size=100) / 10\n",
        "y = 2 + 2 * x1 + 0.3 * x2 + np.random.normal(size=100)\n",
        "\n",
        "X = sm.add_constant(x2)\n",
        "\n",
        "model = sm.OLS(y, X).fit()\n",
        "\n",
        "print(model.summary())\n",
        "\n"
      ],
      "metadata": {
        "colab": {
          "base_uri": "https://localhost:8080/"
        },
        "id": "kzXHLnWJrvZr",
        "outputId": "04b3c47f-8692-4c0f-8584-467c960d818e"
      },
      "execution_count": null,
      "outputs": [
        {
          "output_type": "stream",
          "name": "stdout",
          "text": [
            "                            OLS Regression Results                            \n",
            "==============================================================================\n",
            "Dep. Variable:                      y   R-squared:                       0.213\n",
            "Model:                            OLS   Adj. R-squared:                  0.205\n",
            "Method:                 Least Squares   F-statistic:                     26.55\n",
            "Date:                Sun, 22 Sep 2024   Prob (F-statistic):           1.33e-06\n",
            "Time:                        22:11:23   Log-Likelihood:                -141.67\n",
            "No. Observations:                 100   AIC:                             287.3\n",
            "Df Residuals:                      98   BIC:                             292.5\n",
            "Df Model:                           1                                         \n",
            "Covariance Type:            nonrobust                                         \n",
            "==============================================================================\n",
            "                 coef    std err          t      P>|t|      [0.025      0.975]\n",
            "------------------------------------------------------------------------------\n",
            "const          2.3097      0.164     14.096      0.000       1.985       2.635\n",
            "x1             3.0222      0.587      5.152      0.000       1.858       4.186\n",
            "==============================================================================\n",
            "Omnibus:                        0.238   Durbin-Watson:                   1.941\n",
            "Prob(Omnibus):                  0.888   Jarque-Bera (JB):                0.394\n",
            "Skew:                          -0.090   Prob(JB):                        0.821\n",
            "Kurtosis:                       2.750   Cond. No.                         6.11\n",
            "==============================================================================\n",
            "\n",
            "Notes:\n",
            "[1] Standard Errors assume that the covariance matrix of the errors is correctly specified.\n"
          ]
        }
      ]
    },
    {
      "cell_type": "markdown",
      "source": [
        "(e) Here, the stimated coefficient of x2 is much higher than the true value (β2 = 0.3). Also, the p-value is also very small due to which we can reject the null hypothesis H0: β2 = 0.\n",
        "\n",
        "We can also infer from the output data that even though x2 is correlated to x1, it still has a significant impact on y.\n",
        "\n"
      ],
      "metadata": {
        "id": "qRmALDJSxExl"
      }
    },
    {
      "cell_type": "markdown",
      "source": [
        "(f) No the results from (c) - (e) do not contradict each other.\n",
        "\n",
        "\n",
        "\n",
        "*   In (c), when both **x1** and **x2** are included, the model correctly estimates the coefficients for both the predictors **x1** and **x2**.\n",
        "*   In (d) and (e), when either **x1** or **x2** is excluded, the remaining variable takes on the roll of the missing variable. This is why **estimated β1** is slightly higher when **x2** is excluded and **estimated β2** is significantly higher when **x1** is omitted.\n",
        "\n"
      ],
      "metadata": {
        "id": "_FMzM0gMzzmk"
      }
    },
    {
      "cell_type": "code",
      "source": [
        "# Add the new observation\n",
        "x1_new = np.concatenate([x1, [0.1]])\n",
        "x2_new = np.concatenate([x2, [0.8]])\n",
        "y_new = np.concatenate([y, [6]])\n",
        "\n",
        "# (c) Model: Predict y using both x1 and x2\n",
        "X_both = sm.add_constant(np.column_stack((x1_new, x2_new)))\n",
        "model_both = sm.OLS(y_new, X_both).fit()\n",
        "print(model_both.summary())\n",
        "\n",
        "# (d) Model: Predict y using only x1\n",
        "X_x1 = sm.add_constant(x1_new)\n",
        "model_x1 = sm.OLS(y_new, X_x1).fit()\n",
        "print(model_x1.summary())\n",
        "\n",
        "# (e) Model: Predict y using only x2\n",
        "X_x2 = sm.add_constant(x2_new)\n",
        "model_x2 = sm.OLS(y_new, X_x2).fit()\n",
        "print(model_x2.summary())\n"
      ],
      "metadata": {
        "colab": {
          "base_uri": "https://localhost:8080/"
        },
        "id": "C76GDw3s1cfk",
        "outputId": "0f7a37e2-bafc-4785-b290-c9b262b27c0d"
      },
      "execution_count": null,
      "outputs": [
        {
          "output_type": "stream",
          "name": "stdout",
          "text": [
            "                            OLS Regression Results                            \n",
            "==============================================================================\n",
            "Dep. Variable:                      y   R-squared:                       0.321\n",
            "Model:                            OLS   Adj. R-squared:                  0.307\n",
            "Method:                 Least Squares   F-statistic:                     23.16\n",
            "Date:                Sun, 22 Sep 2024   Prob (F-statistic):           5.79e-09\n",
            "Time:                        22:28:25   Log-Likelihood:                -138.63\n",
            "No. Observations:                 101   AIC:                             283.3\n",
            "Df Residuals:                      98   BIC:                             291.1\n",
            "Df Model:                           2                                         \n",
            "Covariance Type:            nonrobust                                         \n",
            "==============================================================================\n",
            "                 coef    std err          t      P>|t|      [0.025      0.975]\n",
            "------------------------------------------------------------------------------\n",
            "const          1.8868      0.199      9.492      0.000       1.492       2.281\n",
            "x1             1.4866      0.482      3.084      0.003       0.530       2.443\n",
            "x2             1.7199      0.728      2.361      0.020       0.275       3.165\n",
            "==============================================================================\n",
            "Omnibus:                        0.163   Durbin-Watson:                   1.709\n",
            "Prob(Omnibus):                  0.922   Jarque-Bera (JB):                0.202\n",
            "Skew:                           0.092   Prob(JB):                        0.904\n",
            "Kurtosis:                       2.882   Cond. No.                         9.68\n",
            "==============================================================================\n",
            "\n",
            "Notes:\n",
            "[1] Standard Errors assume that the covariance matrix of the errors is correctly specified.\n",
            "                            OLS Regression Results                            \n",
            "==============================================================================\n",
            "Dep. Variable:                      y   R-squared:                       0.282\n",
            "Model:                            OLS   Adj. R-squared:                  0.275\n",
            "Method:                 Least Squares   F-statistic:                     38.95\n",
            "Date:                Sun, 22 Sep 2024   Prob (F-statistic):           1.09e-08\n",
            "Time:                        22:28:25   Log-Likelihood:                -141.43\n",
            "No. Observations:                 101   AIC:                             286.9\n",
            "Df Residuals:                      99   BIC:                             292.1\n",
            "Df Model:                           1                                         \n",
            "Covariance Type:            nonrobust                                         \n",
            "==============================================================================\n",
            "                 coef    std err          t      P>|t|      [0.025      0.975]\n",
            "------------------------------------------------------------------------------\n",
            "const          1.8960      0.203      9.327      0.000       1.493       2.299\n",
            "x1             2.2595      0.362      6.241      0.000       1.541       2.978\n",
            "==============================================================================\n",
            "Omnibus:                        8.722   Durbin-Watson:                   1.631\n",
            "Prob(Omnibus):                  0.013   Jarque-Bera (JB):               10.921\n",
            "Skew:                           0.447   Prob(JB):                      0.00425\n",
            "Kurtosis:                       4.341   Cond. No.                         4.61\n",
            "==============================================================================\n",
            "\n",
            "Notes:\n",
            "[1] Standard Errors assume that the covariance matrix of the errors is correctly specified.\n",
            "                            OLS Regression Results                            \n",
            "==============================================================================\n",
            "Dep. Variable:                      y   R-squared:                       0.255\n",
            "Model:                            OLS   Adj. R-squared:                  0.248\n",
            "Method:                 Least Squares   F-statistic:                     33.90\n",
            "Date:                Sun, 22 Sep 2024   Prob (F-statistic):           7.20e-08\n",
            "Time:                        22:28:25   Log-Likelihood:                -143.31\n",
            "No. Observations:                 101   AIC:                             290.6\n",
            "Df Residuals:                      99   BIC:                             295.8\n",
            "Df Model:                           1                                         \n",
            "Covariance Type:            nonrobust                                         \n",
            "==============================================================================\n",
            "                 coef    std err          t      P>|t|      [0.025      0.975]\n",
            "------------------------------------------------------------------------------\n",
            "const          2.2720      0.161     14.102      0.000       1.952       2.592\n",
            "x1             3.2446      0.557      5.822      0.000       2.139       4.350\n",
            "==============================================================================\n",
            "Omnibus:                        0.290   Durbin-Watson:                   1.897\n",
            "Prob(Omnibus):                  0.865   Jarque-Bera (JB):                0.446\n",
            "Skew:                          -0.098   Prob(JB):                        0.800\n",
            "Kurtosis:                       2.740   Cond. No.                         5.84\n",
            "==============================================================================\n",
            "\n",
            "Notes:\n",
            "[1] Standard Errors assume that the covariance matrix of the errors is correctly specified.\n"
          ]
        }
      ]
    },
    {
      "cell_type": "markdown",
      "source": [
        "(g) Model (c) (with both x1 and x2) is more robust to the mismeasured observation, but the new point is an outlier.\n",
        "\n",
        "Model (d) (with only x1) will be more severely impacted, as x1=0.1 is far from most of the data, making the new point potentially an outlier.\n",
        "\n",
        "Model (e) (with only x2) is somewhat less impacted by leverage, but the new observation might still be an outlier."
      ],
      "metadata": {
        "id": "zRIW63h22evF"
      }
    }
  ]
}